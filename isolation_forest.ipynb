{
  "nbformat": 4,
  "nbformat_minor": 0,
  "metadata": {
    "colab": {
      "name": "isolation-forest",
      "provenance": [],
      "include_colab_link": true
    },
    "kernelspec": {
      "name": "python3",
      "display_name": "Python 3"
    },
    "language_info": {
      "name": "python"
    }
  },
  "cells": [
    {
      "cell_type": "markdown",
      "metadata": {
        "id": "view-in-github",
        "colab_type": "text"
      },
      "source": [
        "<a href=\"https://colab.research.google.com/github/manchann/security_project/blob/main/isolation_forest.ipynb\" target=\"_parent\"><img src=\"https://colab.research.google.com/assets/colab-badge.svg\" alt=\"Open In Colab\"/></a>"
      ]
    },
    {
      "cell_type": "code",
      "metadata": {
        "id": "Wj82UbXgb94I",
        "outputId": "3224aa61-04ef-4d05-d168-7648ab0283f9",
        "colab": {
          "base_uri": "https://localhost:8080/"
        }
      },
      "source": [
        "import pandas as pd\n",
        "from google.colab import drive\n",
        "drive.mount('/content/drive')\n",
        "dataset = pd.read_csv('/content/drive/MyDrive/BigData/04_hashed.csv')\n"
      ],
      "execution_count": 1,
      "outputs": [
        {
          "output_type": "stream",
          "name": "stdout",
          "text": [
            "Drive already mounted at /content/drive; to attempt to forcibly remount, call drive.mount(\"/content/drive\", force_remount=True).\n"
          ]
        }
      ]
    },
    {
      "cell_type": "code",
      "metadata": {
        "id": "gAZ7oEWtivjz"
      },
      "source": [
        "dataset_split = dataset"
      ],
      "execution_count": 2,
      "outputs": []
    },
    {
      "cell_type": "code",
      "metadata": {
        "id": "pYcrqwIYXbLt"
      },
      "source": [
        "dataset_split_without_Rdate = dataset_split.drop('Rdate',axis=1)"
      ],
      "execution_count": 3,
      "outputs": []
    },
    {
      "cell_type": "code",
      "metadata": {
        "id": "XzVyiR90Xime"
      },
      "source": [
        "dataset_split = dataset_split_without_Rdate"
      ],
      "execution_count": 4,
      "outputs": []
    },
    {
      "cell_type": "code",
      "metadata": {
        "colab": {
          "base_uri": "https://localhost:8080/",
          "height": 419
        },
        "id": "Kb8myM6Mcs_t",
        "outputId": "34ee94af-1b6f-45eb-c7aa-ee778af8b7dc"
      },
      "source": [
        "dataset_split"
      ],
      "execution_count": 5,
      "outputs": [
        {
          "output_type": "execute_result",
          "data": {
            "text/html": [
              "<div>\n",
              "<style scoped>\n",
              "    .dataframe tbody tr th:only-of-type {\n",
              "        vertical-align: middle;\n",
              "    }\n",
              "\n",
              "    .dataframe tbody tr th {\n",
              "        vertical-align: top;\n",
              "    }\n",
              "\n",
              "    .dataframe thead th {\n",
              "        text-align: right;\n",
              "    }\n",
              "</style>\n",
              "<table border=\"1\" class=\"dataframe\">\n",
              "  <thead>\n",
              "    <tr style=\"text-align: right;\">\n",
              "      <th></th>\n",
              "      <th>src_ip</th>\n",
              "      <th>dst_ip</th>\n",
              "      <th>Proto</th>\n",
              "      <th>src_port</th>\n",
              "      <th>dst_port</th>\n",
              "      <th>Action</th>\n",
              "      <th>src_country</th>\n",
              "      <th>dst_country</th>\n",
              "    </tr>\n",
              "  </thead>\n",
              "  <tbody>\n",
              "    <tr>\n",
              "      <th>0</th>\n",
              "      <td>154.58.159.102</td>\n",
              "      <td>103.177.12.42</td>\n",
              "      <td>6</td>\n",
              "      <td>52897</td>\n",
              "      <td>445</td>\n",
              "      <td>2</td>\n",
              "      <td>None</td>\n",
              "      <td>US</td>\n",
              "    </tr>\n",
              "    <tr>\n",
              "      <th>1</th>\n",
              "      <td>154.58.159.20</td>\n",
              "      <td>125.66.92.196</td>\n",
              "      <td>6</td>\n",
              "      <td>60579</td>\n",
              "      <td>445</td>\n",
              "      <td>2</td>\n",
              "      <td>None</td>\n",
              "      <td>DE</td>\n",
              "    </tr>\n",
              "    <tr>\n",
              "      <th>2</th>\n",
              "      <td>154.58.159.164</td>\n",
              "      <td>117.121.178.223</td>\n",
              "      <td>6</td>\n",
              "      <td>63831</td>\n",
              "      <td>445</td>\n",
              "      <td>2</td>\n",
              "      <td>None</td>\n",
              "      <td>US</td>\n",
              "    </tr>\n",
              "    <tr>\n",
              "      <th>3</th>\n",
              "      <td>154.58.159.165</td>\n",
              "      <td>205.34.95.97</td>\n",
              "      <td>6</td>\n",
              "      <td>55241</td>\n",
              "      <td>445</td>\n",
              "      <td>2</td>\n",
              "      <td>None</td>\n",
              "      <td>US</td>\n",
              "    </tr>\n",
              "    <tr>\n",
              "      <th>4</th>\n",
              "      <td>154.58.159.102</td>\n",
              "      <td>93.56.164.131</td>\n",
              "      <td>6</td>\n",
              "      <td>52898</td>\n",
              "      <td>445</td>\n",
              "      <td>2</td>\n",
              "      <td>None</td>\n",
              "      <td>US</td>\n",
              "    </tr>\n",
              "    <tr>\n",
              "      <th>...</th>\n",
              "      <td>...</td>\n",
              "      <td>...</td>\n",
              "      <td>...</td>\n",
              "      <td>...</td>\n",
              "      <td>...</td>\n",
              "      <td>...</td>\n",
              "      <td>...</td>\n",
              "      <td>...</td>\n",
              "    </tr>\n",
              "    <tr>\n",
              "      <th>5820305</th>\n",
              "      <td>12.150.252.150</td>\n",
              "      <td>102.116.52.100</td>\n",
              "      <td>6</td>\n",
              "      <td>64259</td>\n",
              "      <td>445</td>\n",
              "      <td>2</td>\n",
              "      <td>None</td>\n",
              "      <td>US</td>\n",
              "    </tr>\n",
              "    <tr>\n",
              "      <th>5820306</th>\n",
              "      <td>12.150.252.150</td>\n",
              "      <td>167.212.157.124</td>\n",
              "      <td>6</td>\n",
              "      <td>64261</td>\n",
              "      <td>445</td>\n",
              "      <td>2</td>\n",
              "      <td>None</td>\n",
              "      <td>CN</td>\n",
              "    </tr>\n",
              "    <tr>\n",
              "      <th>5820307</th>\n",
              "      <td>145.217.2.97</td>\n",
              "      <td>72.192.214.54</td>\n",
              "      <td>6</td>\n",
              "      <td>25646</td>\n",
              "      <td>23</td>\n",
              "      <td>2</td>\n",
              "      <td>ES</td>\n",
              "      <td>KR</td>\n",
              "    </tr>\n",
              "    <tr>\n",
              "      <th>5820308</th>\n",
              "      <td>154.58.159.164</td>\n",
              "      <td>185.151.199.60</td>\n",
              "      <td>6</td>\n",
              "      <td>54633</td>\n",
              "      <td>445</td>\n",
              "      <td>2</td>\n",
              "      <td>None</td>\n",
              "      <td>NL</td>\n",
              "    </tr>\n",
              "    <tr>\n",
              "      <th>5820309</th>\n",
              "      <td>154.58.159.20</td>\n",
              "      <td>180.130.243.165</td>\n",
              "      <td>6</td>\n",
              "      <td>53644</td>\n",
              "      <td>445</td>\n",
              "      <td>2</td>\n",
              "      <td>None</td>\n",
              "      <td>CO</td>\n",
              "    </tr>\n",
              "  </tbody>\n",
              "</table>\n",
              "<p>5820310 rows × 8 columns</p>\n",
              "</div>"
            ],
            "text/plain": [
              "                 src_ip           dst_ip  Proto  ...  Action  src_country  dst_country\n",
              "0        154.58.159.102    103.177.12.42      6  ...       2         None           US\n",
              "1         154.58.159.20    125.66.92.196      6  ...       2         None           DE\n",
              "2        154.58.159.164  117.121.178.223      6  ...       2         None           US\n",
              "3        154.58.159.165     205.34.95.97      6  ...       2         None           US\n",
              "4        154.58.159.102    93.56.164.131      6  ...       2         None           US\n",
              "...                 ...              ...    ...  ...     ...          ...          ...\n",
              "5820305  12.150.252.150   102.116.52.100      6  ...       2         None           US\n",
              "5820306  12.150.252.150  167.212.157.124      6  ...       2         None           CN\n",
              "5820307    145.217.2.97    72.192.214.54      6  ...       2           ES           KR\n",
              "5820308  154.58.159.164   185.151.199.60      6  ...       2         None           NL\n",
              "5820309   154.58.159.20  180.130.243.165      6  ...       2         None           CO\n",
              "\n",
              "[5820310 rows x 8 columns]"
            ]
          },
          "metadata": {},
          "execution_count": 5
        }
      ]
    },
    {
      "cell_type": "code",
      "metadata": {
        "id": "FUmwiQdecinj"
      },
      "source": [
        "# dataset_train = dataset.iloc[:100]\n",
        "# dataset_test = dataset.iloc[100:150]"
      ],
      "execution_count": 6,
      "outputs": []
    },
    {
      "cell_type": "code",
      "metadata": {
        "id": "afqZoEz6cyK6"
      },
      "source": [
        "# IPv4 전처리\n",
        "def transform_ip(ip): \n",
        "  groups = ip.split(\".\") \n",
        "  equalize_group_length = \"\".join( map( lambda group: group.zfill(3), groups )) \n",
        "  return equalize_group_length \n",
        "\n",
        "from sklearn.preprocessing import LabelEncoder\n",
        "\n",
        "# Feature 전처리\n",
        "def preprocess_df(df):\n",
        "  \n",
        "  # IPv4 전처리\n",
        "  df['src_ip'] = df.src_ip.apply(lambda ip : transform_ip(ip))\n",
        "  df['dst_ip'] = df.dst_ip.apply(lambda ip : transform_ip(ip))\n",
        "\n",
        "  # country 전처리\n",
        "  label_encoder = LabelEncoder()\n",
        "  df['src_country'] = label_encoder.fit_transform(df['src_country'])\n",
        "  df['dst_country'] = label_encoder.fit_transform(df['dst_country'])\n",
        "\n",
        "  return df"
      ],
      "execution_count": 7,
      "outputs": []
    },
    {
      "cell_type": "code",
      "metadata": {
        "id": "Z0CUW0g3c2IU"
      },
      "source": [
        ""
      ],
      "execution_count": 7,
      "outputs": []
    },
    {
      "cell_type": "code",
      "metadata": {
        "id": "xbqCN-frc5oW"
      },
      "source": [
        "dataset_ip = preprocess_df(dataset_split)"
      ],
      "execution_count": 8,
      "outputs": []
    },
    {
      "cell_type": "code",
      "metadata": {
        "id": "qT06GQJhan7D"
      },
      "source": [
        ""
      ],
      "execution_count": 8,
      "outputs": []
    },
    {
      "cell_type": "code",
      "metadata": {
        "id": "XWQESSvDc_XX"
      },
      "source": [
        "import numpy as np\n",
        "arr = np.array(dataset_ip)\n",
        "dataset_ip = pd.DataFrame(arr,columns=dataset_ip.columns)\n"
      ],
      "execution_count": 9,
      "outputs": []
    },
    {
      "cell_type": "code",
      "metadata": {
        "colab": {
          "base_uri": "https://localhost:8080/",
          "height": 204
        },
        "id": "Of0MJnkucsGd",
        "outputId": "2e6fbaad-d7a9-4b82-98d5-d64a46a9261f"
      },
      "source": [
        "from sklearn.preprocessing import LabelEncoder\n",
        "job_encode = LabelEncoder()\n",
        "dataset_ip['src_country'] = job_encode.fit_transform(dataset_ip['src_country'])\n",
        "dataset_ip['dst_country'] = job_encode.fit_transform(dataset_ip['dst_country'])\n",
        "dataset_ip.tail()"
      ],
      "execution_count": 10,
      "outputs": [
        {
          "output_type": "execute_result",
          "data": {
            "text/html": [
              "<div>\n",
              "<style scoped>\n",
              "    .dataframe tbody tr th:only-of-type {\n",
              "        vertical-align: middle;\n",
              "    }\n",
              "\n",
              "    .dataframe tbody tr th {\n",
              "        vertical-align: top;\n",
              "    }\n",
              "\n",
              "    .dataframe thead th {\n",
              "        text-align: right;\n",
              "    }\n",
              "</style>\n",
              "<table border=\"1\" class=\"dataframe\">\n",
              "  <thead>\n",
              "    <tr style=\"text-align: right;\">\n",
              "      <th></th>\n",
              "      <th>src_ip</th>\n",
              "      <th>dst_ip</th>\n",
              "      <th>Proto</th>\n",
              "      <th>src_port</th>\n",
              "      <th>dst_port</th>\n",
              "      <th>Action</th>\n",
              "      <th>src_country</th>\n",
              "      <th>dst_country</th>\n",
              "    </tr>\n",
              "  </thead>\n",
              "  <tbody>\n",
              "    <tr>\n",
              "      <th>5820305</th>\n",
              "      <td>012150252150</td>\n",
              "      <td>102116052100</td>\n",
              "      <td>6</td>\n",
              "      <td>64259</td>\n",
              "      <td>445</td>\n",
              "      <td>2</td>\n",
              "      <td>121</td>\n",
              "      <td>224</td>\n",
              "    </tr>\n",
              "    <tr>\n",
              "      <th>5820306</th>\n",
              "      <td>012150252150</td>\n",
              "      <td>167212157124</td>\n",
              "      <td>6</td>\n",
              "      <td>64261</td>\n",
              "      <td>445</td>\n",
              "      <td>2</td>\n",
              "      <td>121</td>\n",
              "      <td>46</td>\n",
              "    </tr>\n",
              "    <tr>\n",
              "      <th>5820307</th>\n",
              "      <td>145217002097</td>\n",
              "      <td>072192214054</td>\n",
              "      <td>6</td>\n",
              "      <td>25646</td>\n",
              "      <td>23</td>\n",
              "      <td>2</td>\n",
              "      <td>47</td>\n",
              "      <td>116</td>\n",
              "    </tr>\n",
              "    <tr>\n",
              "      <th>5820308</th>\n",
              "      <td>154058159164</td>\n",
              "      <td>185151199060</td>\n",
              "      <td>6</td>\n",
              "      <td>54633</td>\n",
              "      <td>445</td>\n",
              "      <td>2</td>\n",
              "      <td>121</td>\n",
              "      <td>159</td>\n",
              "    </tr>\n",
              "    <tr>\n",
              "      <th>5820309</th>\n",
              "      <td>154058159020</td>\n",
              "      <td>180130243165</td>\n",
              "      <td>6</td>\n",
              "      <td>53644</td>\n",
              "      <td>445</td>\n",
              "      <td>2</td>\n",
              "      <td>121</td>\n",
              "      <td>47</td>\n",
              "    </tr>\n",
              "  </tbody>\n",
              "</table>\n",
              "</div>"
            ],
            "text/plain": [
              "               src_ip        dst_ip Proto  ... Action src_country dst_country\n",
              "5820305  012150252150  102116052100     6  ...      2         121         224\n",
              "5820306  012150252150  167212157124     6  ...      2         121          46\n",
              "5820307  145217002097  072192214054     6  ...      2          47         116\n",
              "5820308  154058159164  185151199060     6  ...      2         121         159\n",
              "5820309  154058159020  180130243165     6  ...      2         121          47\n",
              "\n",
              "[5 rows x 8 columns]"
            ]
          },
          "metadata": {},
          "execution_count": 10
        }
      ]
    },
    {
      "cell_type": "code",
      "metadata": {
        "colab": {
          "base_uri": "https://localhost:8080/"
        },
        "id": "xkl04MkzeZU8",
        "outputId": "d32b7a66-f203-4629-e6c8-81ee9bddb31e"
      },
      "source": [
        "from sklearn.ensemble import IsolationForest\n",
        "\n",
        "model=IsolationForest(n_estimators=100, max_samples='auto', n_jobs=-1,\n",
        "                      max_features=8, contamination='auto')\n",
        "\n",
        "model.fit(dataset_ip.to_numpy())\n"
      ],
      "execution_count": 11,
      "outputs": [
        {
          "output_type": "execute_result",
          "data": {
            "text/plain": [
              "IsolationForest(max_features=8, n_jobs=-1)"
            ]
          },
          "metadata": {},
          "execution_count": 11
        }
      ]
    },
    {
      "cell_type": "code",
      "metadata": {
        "id": "936uluPSfUzE"
      },
      "source": [
        "score = model.decision_function(dataset_ip.to_numpy())\n",
        "anomaly = model.predict(dataset_ip.to_numpy())\n"
      ],
      "execution_count": 12,
      "outputs": []
    },
    {
      "cell_type": "code",
      "metadata": {
        "id": "NTvK5OkDfpUW"
      },
      "source": [
        "dataset_ip['scores']= score\n",
        "dataset_ip['anomaly']= anomaly\n",
        "\n",
        "dataset_ip.to_csv('/content/drive/MyDrive/BigData/results_al.csv')\n",
        "anomaly_data = dataset_ip.loc[dataset_ip['anomaly']==-1] # 이상값은 -1으로 나타낸다.\n",
        "anomaly_data\n",
        "anomaly_data.to_csv('/content/drive/MyDrive/BigData/result.csv')"
      ],
      "execution_count": 13,
      "outputs": []
    },
    {
      "cell_type": "code",
      "metadata": {
        "id": "9F5MNHzSohVr",
        "outputId": "2bf60a73-2213-4287-bf8b-d699d080988f",
        "colab": {
          "base_uri": "https://localhost:8080/",
          "height": 204
        }
      },
      "source": [
        "result = pd.read_csv('/content/drive/MyDrive/BigData/result.csv')\n",
        "\n",
        "result.head()"
      ],
      "execution_count": 16,
      "outputs": [
        {
          "output_type": "execute_result",
          "data": {
            "text/html": [
              "<div>\n",
              "<style scoped>\n",
              "    .dataframe tbody tr th:only-of-type {\n",
              "        vertical-align: middle;\n",
              "    }\n",
              "\n",
              "    .dataframe tbody tr th {\n",
              "        vertical-align: top;\n",
              "    }\n",
              "\n",
              "    .dataframe thead th {\n",
              "        text-align: right;\n",
              "    }\n",
              "</style>\n",
              "<table border=\"1\" class=\"dataframe\">\n",
              "  <thead>\n",
              "    <tr style=\"text-align: right;\">\n",
              "      <th></th>\n",
              "      <th>Unnamed: 0</th>\n",
              "      <th>src_ip</th>\n",
              "      <th>dst_ip</th>\n",
              "      <th>Proto</th>\n",
              "      <th>src_port</th>\n",
              "      <th>dst_port</th>\n",
              "      <th>Action</th>\n",
              "      <th>src_country</th>\n",
              "      <th>dst_country</th>\n",
              "      <th>scores</th>\n",
              "      <th>anomaly</th>\n",
              "    </tr>\n",
              "  </thead>\n",
              "  <tbody>\n",
              "    <tr>\n",
              "      <th>0</th>\n",
              "      <td>5</td>\n",
              "      <td>121007158110</td>\n",
              "      <td>72192214056</td>\n",
              "      <td>6</td>\n",
              "      <td>42406</td>\n",
              "      <td>40357</td>\n",
              "      <td>2</td>\n",
              "      <td>138</td>\n",
              "      <td>116</td>\n",
              "      <td>-0.065812</td>\n",
              "      <td>-1</td>\n",
              "    </tr>\n",
              "    <tr>\n",
              "      <th>1</th>\n",
              "      <td>8</td>\n",
              "      <td>45111016042</td>\n",
              "      <td>197066131012</td>\n",
              "      <td>6</td>\n",
              "      <td>4729</td>\n",
              "      <td>80</td>\n",
              "      <td>2</td>\n",
              "      <td>85</td>\n",
              "      <td>116</td>\n",
              "      <td>-0.096186</td>\n",
              "      <td>-1</td>\n",
              "    </tr>\n",
              "    <tr>\n",
              "      <th>2</th>\n",
              "      <td>31</td>\n",
              "      <td>129020011057</td>\n",
              "      <td>72192214000</td>\n",
              "      <td>6</td>\n",
              "      <td>58259</td>\n",
              "      <td>64344</td>\n",
              "      <td>2</td>\n",
              "      <td>138</td>\n",
              "      <td>116</td>\n",
              "      <td>-0.076878</td>\n",
              "      <td>-1</td>\n",
              "    </tr>\n",
              "    <tr>\n",
              "      <th>3</th>\n",
              "      <td>36</td>\n",
              "      <td>45111016049</td>\n",
              "      <td>77034200015</td>\n",
              "      <td>6</td>\n",
              "      <td>45756</td>\n",
              "      <td>443</td>\n",
              "      <td>2</td>\n",
              "      <td>85</td>\n",
              "      <td>12</td>\n",
              "      <td>-0.043242</td>\n",
              "      <td>-1</td>\n",
              "    </tr>\n",
              "    <tr>\n",
              "      <th>4</th>\n",
              "      <td>38</td>\n",
              "      <td>101008193165</td>\n",
              "      <td>72192214208</td>\n",
              "      <td>6</td>\n",
              "      <td>50854</td>\n",
              "      <td>43389</td>\n",
              "      <td>2</td>\n",
              "      <td>85</td>\n",
              "      <td>116</td>\n",
              "      <td>-0.073663</td>\n",
              "      <td>-1</td>\n",
              "    </tr>\n",
              "  </tbody>\n",
              "</table>\n",
              "</div>"
            ],
            "text/plain": [
              "   Unnamed: 0        src_ip        dst_ip  ...  dst_country    scores  anomaly\n",
              "0           5  121007158110   72192214056  ...          116 -0.065812       -1\n",
              "1           8   45111016042  197066131012  ...          116 -0.096186       -1\n",
              "2          31  129020011057   72192214000  ...          116 -0.076878       -1\n",
              "3          36   45111016049   77034200015  ...           12 -0.043242       -1\n",
              "4          38  101008193165   72192214208  ...          116 -0.073663       -1\n",
              "\n",
              "[5 rows x 11 columns]"
            ]
          },
          "metadata": {},
          "execution_count": 16
        }
      ]
    },
    {
      "cell_type": "code",
      "metadata": {
        "id": "jFtF1cdBtlWy",
        "outputId": "b2aff626-5943-4090-fbda-d389c93f4cb5",
        "colab": {
          "base_uri": "https://localhost:8080/",
          "height": 204
        }
      },
      "source": [
        "dataset_ip.head()"
      ],
      "execution_count": 15,
      "outputs": [
        {
          "output_type": "execute_result",
          "data": {
            "text/html": [
              "<div>\n",
              "<style scoped>\n",
              "    .dataframe tbody tr th:only-of-type {\n",
              "        vertical-align: middle;\n",
              "    }\n",
              "\n",
              "    .dataframe tbody tr th {\n",
              "        vertical-align: top;\n",
              "    }\n",
              "\n",
              "    .dataframe thead th {\n",
              "        text-align: right;\n",
              "    }\n",
              "</style>\n",
              "<table border=\"1\" class=\"dataframe\">\n",
              "  <thead>\n",
              "    <tr style=\"text-align: right;\">\n",
              "      <th></th>\n",
              "      <th>src_ip</th>\n",
              "      <th>dst_ip</th>\n",
              "      <th>Proto</th>\n",
              "      <th>src_port</th>\n",
              "      <th>dst_port</th>\n",
              "      <th>Action</th>\n",
              "      <th>src_country</th>\n",
              "      <th>dst_country</th>\n",
              "      <th>scores</th>\n",
              "      <th>anomaly</th>\n",
              "    </tr>\n",
              "  </thead>\n",
              "  <tbody>\n",
              "    <tr>\n",
              "      <th>0</th>\n",
              "      <td>154058159102</td>\n",
              "      <td>103177012042</td>\n",
              "      <td>6</td>\n",
              "      <td>52897</td>\n",
              "      <td>445</td>\n",
              "      <td>2</td>\n",
              "      <td>121</td>\n",
              "      <td>224</td>\n",
              "      <td>0.102170</td>\n",
              "      <td>1</td>\n",
              "    </tr>\n",
              "    <tr>\n",
              "      <th>1</th>\n",
              "      <td>154058159020</td>\n",
              "      <td>125066092196</td>\n",
              "      <td>6</td>\n",
              "      <td>60579</td>\n",
              "      <td>445</td>\n",
              "      <td>2</td>\n",
              "      <td>121</td>\n",
              "      <td>54</td>\n",
              "      <td>0.079925</td>\n",
              "      <td>1</td>\n",
              "    </tr>\n",
              "    <tr>\n",
              "      <th>2</th>\n",
              "      <td>154058159164</td>\n",
              "      <td>117121178223</td>\n",
              "      <td>6</td>\n",
              "      <td>63831</td>\n",
              "      <td>445</td>\n",
              "      <td>2</td>\n",
              "      <td>121</td>\n",
              "      <td>224</td>\n",
              "      <td>0.092024</td>\n",
              "      <td>1</td>\n",
              "    </tr>\n",
              "    <tr>\n",
              "      <th>3</th>\n",
              "      <td>154058159165</td>\n",
              "      <td>205034095097</td>\n",
              "      <td>6</td>\n",
              "      <td>55241</td>\n",
              "      <td>445</td>\n",
              "      <td>2</td>\n",
              "      <td>121</td>\n",
              "      <td>224</td>\n",
              "      <td>0.084946</td>\n",
              "      <td>1</td>\n",
              "    </tr>\n",
              "    <tr>\n",
              "      <th>4</th>\n",
              "      <td>154058159102</td>\n",
              "      <td>093056164131</td>\n",
              "      <td>6</td>\n",
              "      <td>52898</td>\n",
              "      <td>445</td>\n",
              "      <td>2</td>\n",
              "      <td>121</td>\n",
              "      <td>224</td>\n",
              "      <td>0.103200</td>\n",
              "      <td>1</td>\n",
              "    </tr>\n",
              "  </tbody>\n",
              "</table>\n",
              "</div>"
            ],
            "text/plain": [
              "         src_ip        dst_ip Proto  ... dst_country    scores anomaly\n",
              "0  154058159102  103177012042     6  ...         224  0.102170       1\n",
              "1  154058159020  125066092196     6  ...          54  0.079925       1\n",
              "2  154058159164  117121178223     6  ...         224  0.092024       1\n",
              "3  154058159165  205034095097     6  ...         224  0.084946       1\n",
              "4  154058159102  093056164131     6  ...         224  0.103200       1\n",
              "\n",
              "[5 rows x 10 columns]"
            ]
          },
          "metadata": {},
          "execution_count": 15
        }
      ]
    },
    {
      "cell_type": "code",
      "metadata": {
        "id": "jsUelyFBo4hH"
      },
      "source": [
        ""
      ],
      "execution_count": 15,
      "outputs": []
    }
  ]
}